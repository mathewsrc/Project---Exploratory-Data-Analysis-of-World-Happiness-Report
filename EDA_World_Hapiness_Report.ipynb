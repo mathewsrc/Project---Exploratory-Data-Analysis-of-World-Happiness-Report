{
  "nbformat": 4,
  "nbformat_minor": 0,
  "metadata": {
    "colab": {
      "provenance": [],
      "collapsed_sections": [],
      "authorship_tag": "ABX9TyM+kw0Z5lBuGXIvbfKpUdoj",
      "include_colab_link": true
    },
    "kernelspec": {
      "name": "python3",
      "display_name": "Python 3"
    },
    "language_info": {
      "name": "python"
    }
  },
  "cells": [
    {
      "cell_type": "markdown",
      "metadata": {
        "id": "view-in-github",
        "colab_type": "text"
      },
      "source": [
        "<a href=\"https://colab.research.google.com/github/punkmic/Project---Exploratory-Data-Analysis-of-World-Happiness-Report/blob/master/EDA_World_Hapiness_Report.ipynb\" target=\"_parent\"><img src=\"https://colab.research.google.com/assets/colab-badge.svg\" alt=\"Open In Colab\"/></a>"
      ]
    },
    {
      "cell_type": "markdown",
      "source": [
        "# **Exploratory Data Analysis of World Happiness Report**\n",
        "\n",
        "This project aims to analyze financial, social, political data, life expectancy and describe which characteristics positively influence people's happiness."
      ],
      "metadata": {
        "id": "aOtVonLVwwAe"
      }
    },
    {
      "cell_type": "markdown",
      "source": [
        "### **Clone github repository and import datasets**"
      ],
      "metadata": {
        "id": "RcSFobsZw3Za"
      }
    },
    {
      "cell_type": "code",
      "execution_count": 121,
      "metadata": {
        "colab": {
          "base_uri": "https://localhost:8080/"
        },
        "id": "DMoAlq5us6BT",
        "outputId": "9c1f0a92-65e7-4004-8137-9ddd4ddaa249"
      },
      "outputs": [
        {
          "output_type": "stream",
          "name": "stdout",
          "text": [
            "fatal: destination path 'Project---Exploratory-Data-Analysis-of-World-Happiness-Report' already exists and is not an empty directory.\n"
          ]
        }
      ],
      "source": [
        "!git clone https://github.com/punkmic/Project---Exploratory-Data-Analysis-of-World-Happiness-Report.git"
      ]
    },
    {
      "cell_type": "code",
      "source": [
        "import pandas as pd\n",
        "\n",
        "#path to files\n",
        "path = '/content/Project---Exploratory-Data-Analysis-of-World-Happiness-Report/'\n",
        "\n",
        "# files names\n",
        "files_name = ['2015.csv', '2016.csv', '2017.csv', '2018.csv', '2019.csv']\n",
        "\n",
        "# concat files\n",
        "files = []\n",
        "for name in files_name:\n",
        "  df = pd.read_csv(f'{path}{name}')\n",
        "  df['year'] = name[:4]\n",
        "  files.append(df)\n",
        "\n",
        "df = pd.concat(files)"
      ],
      "metadata": {
        "id": "K3Fcw0o4xL6z"
      },
      "execution_count": 122,
      "outputs": []
    },
    {
      "cell_type": "code",
      "source": [
        "# print dataset\n",
        "df.head()"
      ],
      "metadata": {
        "colab": {
          "base_uri": "https://localhost:8080/",
          "height": 438
        },
        "id": "cbgUnB1AyGys",
        "outputId": "54cfa3dc-d115-40f9-f377-f7ae43482dfd"
      },
      "execution_count": 123,
      "outputs": [
        {
          "output_type": "execute_result",
          "data": {
            "text/plain": [
              "       Country          Region  Happiness Rank  Happiness Score  \\\n",
              "0  Switzerland  Western Europe             1.0            7.587   \n",
              "1      Iceland  Western Europe             2.0            7.561   \n",
              "2      Denmark  Western Europe             3.0            7.527   \n",
              "3       Norway  Western Europe             4.0            7.522   \n",
              "4       Canada   North America             5.0            7.427   \n",
              "\n",
              "   Standard Error  Economy (GDP per Capita)   Family  \\\n",
              "0         0.03411                   1.39651  1.34951   \n",
              "1         0.04884                   1.30232  1.40223   \n",
              "2         0.03328                   1.32548  1.36058   \n",
              "3         0.03880                   1.45900  1.33095   \n",
              "4         0.03553                   1.32629  1.32261   \n",
              "\n",
              "   Health (Life Expectancy)  Freedom  Trust (Government Corruption)  ...  \\\n",
              "0                   0.94143  0.66557                        0.41978  ...   \n",
              "1                   0.94784  0.62877                        0.14145  ...   \n",
              "2                   0.87464  0.64938                        0.48357  ...   \n",
              "3                   0.88521  0.66973                        0.36503  ...   \n",
              "4                   0.90563  0.63297                        0.32957  ...   \n",
              "\n",
              "   Trust..Government.Corruption.  Dystopia.Residual Overall rank  \\\n",
              "0                            NaN                NaN          NaN   \n",
              "1                            NaN                NaN          NaN   \n",
              "2                            NaN                NaN          NaN   \n",
              "3                            NaN                NaN          NaN   \n",
              "4                            NaN                NaN          NaN   \n",
              "\n",
              "   Country or region  Score  GDP per capita  Social support  \\\n",
              "0                NaN    NaN             NaN             NaN   \n",
              "1                NaN    NaN             NaN             NaN   \n",
              "2                NaN    NaN             NaN             NaN   \n",
              "3                NaN    NaN             NaN             NaN   \n",
              "4                NaN    NaN             NaN             NaN   \n",
              "\n",
              "   Healthy life expectancy  Freedom to make life choices  \\\n",
              "0                      NaN                           NaN   \n",
              "1                      NaN                           NaN   \n",
              "2                      NaN                           NaN   \n",
              "3                      NaN                           NaN   \n",
              "4                      NaN                           NaN   \n",
              "\n",
              "   Perceptions of corruption  \n",
              "0                        NaN  \n",
              "1                        NaN  \n",
              "2                        NaN  \n",
              "3                        NaN  \n",
              "4                        NaN  \n",
              "\n",
              "[5 rows x 31 columns]"
            ],
            "text/html": [
              "\n",
              "  <div id=\"df-4b2c2a2c-79d1-497e-a23d-e165668c17f2\">\n",
              "    <div class=\"colab-df-container\">\n",
              "      <div>\n",
              "<style scoped>\n",
              "    .dataframe tbody tr th:only-of-type {\n",
              "        vertical-align: middle;\n",
              "    }\n",
              "\n",
              "    .dataframe tbody tr th {\n",
              "        vertical-align: top;\n",
              "    }\n",
              "\n",
              "    .dataframe thead th {\n",
              "        text-align: right;\n",
              "    }\n",
              "</style>\n",
              "<table border=\"1\" class=\"dataframe\">\n",
              "  <thead>\n",
              "    <tr style=\"text-align: right;\">\n",
              "      <th></th>\n",
              "      <th>Country</th>\n",
              "      <th>Region</th>\n",
              "      <th>Happiness Rank</th>\n",
              "      <th>Happiness Score</th>\n",
              "      <th>Standard Error</th>\n",
              "      <th>Economy (GDP per Capita)</th>\n",
              "      <th>Family</th>\n",
              "      <th>Health (Life Expectancy)</th>\n",
              "      <th>Freedom</th>\n",
              "      <th>Trust (Government Corruption)</th>\n",
              "      <th>...</th>\n",
              "      <th>Trust..Government.Corruption.</th>\n",
              "      <th>Dystopia.Residual</th>\n",
              "      <th>Overall rank</th>\n",
              "      <th>Country or region</th>\n",
              "      <th>Score</th>\n",
              "      <th>GDP per capita</th>\n",
              "      <th>Social support</th>\n",
              "      <th>Healthy life expectancy</th>\n",
              "      <th>Freedom to make life choices</th>\n",
              "      <th>Perceptions of corruption</th>\n",
              "    </tr>\n",
              "  </thead>\n",
              "  <tbody>\n",
              "    <tr>\n",
              "      <th>0</th>\n",
              "      <td>Switzerland</td>\n",
              "      <td>Western Europe</td>\n",
              "      <td>1.0</td>\n",
              "      <td>7.587</td>\n",
              "      <td>0.03411</td>\n",
              "      <td>1.39651</td>\n",
              "      <td>1.34951</td>\n",
              "      <td>0.94143</td>\n",
              "      <td>0.66557</td>\n",
              "      <td>0.41978</td>\n",
              "      <td>...</td>\n",
              "      <td>NaN</td>\n",
              "      <td>NaN</td>\n",
              "      <td>NaN</td>\n",
              "      <td>NaN</td>\n",
              "      <td>NaN</td>\n",
              "      <td>NaN</td>\n",
              "      <td>NaN</td>\n",
              "      <td>NaN</td>\n",
              "      <td>NaN</td>\n",
              "      <td>NaN</td>\n",
              "    </tr>\n",
              "    <tr>\n",
              "      <th>1</th>\n",
              "      <td>Iceland</td>\n",
              "      <td>Western Europe</td>\n",
              "      <td>2.0</td>\n",
              "      <td>7.561</td>\n",
              "      <td>0.04884</td>\n",
              "      <td>1.30232</td>\n",
              "      <td>1.40223</td>\n",
              "      <td>0.94784</td>\n",
              "      <td>0.62877</td>\n",
              "      <td>0.14145</td>\n",
              "      <td>...</td>\n",
              "      <td>NaN</td>\n",
              "      <td>NaN</td>\n",
              "      <td>NaN</td>\n",
              "      <td>NaN</td>\n",
              "      <td>NaN</td>\n",
              "      <td>NaN</td>\n",
              "      <td>NaN</td>\n",
              "      <td>NaN</td>\n",
              "      <td>NaN</td>\n",
              "      <td>NaN</td>\n",
              "    </tr>\n",
              "    <tr>\n",
              "      <th>2</th>\n",
              "      <td>Denmark</td>\n",
              "      <td>Western Europe</td>\n",
              "      <td>3.0</td>\n",
              "      <td>7.527</td>\n",
              "      <td>0.03328</td>\n",
              "      <td>1.32548</td>\n",
              "      <td>1.36058</td>\n",
              "      <td>0.87464</td>\n",
              "      <td>0.64938</td>\n",
              "      <td>0.48357</td>\n",
              "      <td>...</td>\n",
              "      <td>NaN</td>\n",
              "      <td>NaN</td>\n",
              "      <td>NaN</td>\n",
              "      <td>NaN</td>\n",
              "      <td>NaN</td>\n",
              "      <td>NaN</td>\n",
              "      <td>NaN</td>\n",
              "      <td>NaN</td>\n",
              "      <td>NaN</td>\n",
              "      <td>NaN</td>\n",
              "    </tr>\n",
              "    <tr>\n",
              "      <th>3</th>\n",
              "      <td>Norway</td>\n",
              "      <td>Western Europe</td>\n",
              "      <td>4.0</td>\n",
              "      <td>7.522</td>\n",
              "      <td>0.03880</td>\n",
              "      <td>1.45900</td>\n",
              "      <td>1.33095</td>\n",
              "      <td>0.88521</td>\n",
              "      <td>0.66973</td>\n",
              "      <td>0.36503</td>\n",
              "      <td>...</td>\n",
              "      <td>NaN</td>\n",
              "      <td>NaN</td>\n",
              "      <td>NaN</td>\n",
              "      <td>NaN</td>\n",
              "      <td>NaN</td>\n",
              "      <td>NaN</td>\n",
              "      <td>NaN</td>\n",
              "      <td>NaN</td>\n",
              "      <td>NaN</td>\n",
              "      <td>NaN</td>\n",
              "    </tr>\n",
              "    <tr>\n",
              "      <th>4</th>\n",
              "      <td>Canada</td>\n",
              "      <td>North America</td>\n",
              "      <td>5.0</td>\n",
              "      <td>7.427</td>\n",
              "      <td>0.03553</td>\n",
              "      <td>1.32629</td>\n",
              "      <td>1.32261</td>\n",
              "      <td>0.90563</td>\n",
              "      <td>0.63297</td>\n",
              "      <td>0.32957</td>\n",
              "      <td>...</td>\n",
              "      <td>NaN</td>\n",
              "      <td>NaN</td>\n",
              "      <td>NaN</td>\n",
              "      <td>NaN</td>\n",
              "      <td>NaN</td>\n",
              "      <td>NaN</td>\n",
              "      <td>NaN</td>\n",
              "      <td>NaN</td>\n",
              "      <td>NaN</td>\n",
              "      <td>NaN</td>\n",
              "    </tr>\n",
              "  </tbody>\n",
              "</table>\n",
              "<p>5 rows × 31 columns</p>\n",
              "</div>\n",
              "      <button class=\"colab-df-convert\" onclick=\"convertToInteractive('df-4b2c2a2c-79d1-497e-a23d-e165668c17f2')\"\n",
              "              title=\"Convert this dataframe to an interactive table.\"\n",
              "              style=\"display:none;\">\n",
              "        \n",
              "  <svg xmlns=\"http://www.w3.org/2000/svg\" height=\"24px\"viewBox=\"0 0 24 24\"\n",
              "       width=\"24px\">\n",
              "    <path d=\"M0 0h24v24H0V0z\" fill=\"none\"/>\n",
              "    <path d=\"M18.56 5.44l.94 2.06.94-2.06 2.06-.94-2.06-.94-.94-2.06-.94 2.06-2.06.94zm-11 1L8.5 8.5l.94-2.06 2.06-.94-2.06-.94L8.5 2.5l-.94 2.06-2.06.94zm10 10l.94 2.06.94-2.06 2.06-.94-2.06-.94-.94-2.06-.94 2.06-2.06.94z\"/><path d=\"M17.41 7.96l-1.37-1.37c-.4-.4-.92-.59-1.43-.59-.52 0-1.04.2-1.43.59L10.3 9.45l-7.72 7.72c-.78.78-.78 2.05 0 2.83L4 21.41c.39.39.9.59 1.41.59.51 0 1.02-.2 1.41-.59l7.78-7.78 2.81-2.81c.8-.78.8-2.07 0-2.86zM5.41 20L4 18.59l7.72-7.72 1.47 1.35L5.41 20z\"/>\n",
              "  </svg>\n",
              "      </button>\n",
              "      \n",
              "  <style>\n",
              "    .colab-df-container {\n",
              "      display:flex;\n",
              "      flex-wrap:wrap;\n",
              "      gap: 12px;\n",
              "    }\n",
              "\n",
              "    .colab-df-convert {\n",
              "      background-color: #E8F0FE;\n",
              "      border: none;\n",
              "      border-radius: 50%;\n",
              "      cursor: pointer;\n",
              "      display: none;\n",
              "      fill: #1967D2;\n",
              "      height: 32px;\n",
              "      padding: 0 0 0 0;\n",
              "      width: 32px;\n",
              "    }\n",
              "\n",
              "    .colab-df-convert:hover {\n",
              "      background-color: #E2EBFA;\n",
              "      box-shadow: 0px 1px 2px rgba(60, 64, 67, 0.3), 0px 1px 3px 1px rgba(60, 64, 67, 0.15);\n",
              "      fill: #174EA6;\n",
              "    }\n",
              "\n",
              "    [theme=dark] .colab-df-convert {\n",
              "      background-color: #3B4455;\n",
              "      fill: #D2E3FC;\n",
              "    }\n",
              "\n",
              "    [theme=dark] .colab-df-convert:hover {\n",
              "      background-color: #434B5C;\n",
              "      box-shadow: 0px 1px 3px 1px rgba(0, 0, 0, 0.15);\n",
              "      filter: drop-shadow(0px 1px 2px rgba(0, 0, 0, 0.3));\n",
              "      fill: #FFFFFF;\n",
              "    }\n",
              "  </style>\n",
              "\n",
              "      <script>\n",
              "        const buttonEl =\n",
              "          document.querySelector('#df-4b2c2a2c-79d1-497e-a23d-e165668c17f2 button.colab-df-convert');\n",
              "        buttonEl.style.display =\n",
              "          google.colab.kernel.accessAllowed ? 'block' : 'none';\n",
              "\n",
              "        async function convertToInteractive(key) {\n",
              "          const element = document.querySelector('#df-4b2c2a2c-79d1-497e-a23d-e165668c17f2');\n",
              "          const dataTable =\n",
              "            await google.colab.kernel.invokeFunction('convertToInteractive',\n",
              "                                                     [key], {});\n",
              "          if (!dataTable) return;\n",
              "\n",
              "          const docLinkHtml = 'Like what you see? Visit the ' +\n",
              "            '<a target=\"_blank\" href=https://colab.research.google.com/notebooks/data_table.ipynb>data table notebook</a>'\n",
              "            + ' to learn more about interactive tables.';\n",
              "          element.innerHTML = '';\n",
              "          dataTable['output_type'] = 'display_data';\n",
              "          await google.colab.output.renderOutput(dataTable, element);\n",
              "          const docLink = document.createElement('div');\n",
              "          docLink.innerHTML = docLinkHtml;\n",
              "          element.appendChild(docLink);\n",
              "        }\n",
              "      </script>\n",
              "    </div>\n",
              "  </div>\n",
              "  "
            ]
          },
          "metadata": {},
          "execution_count": 123
        }
      ]
    },
    {
      "cell_type": "code",
      "source": [
        "# print the number of rows and columns\n",
        "df.shape"
      ],
      "metadata": {
        "colab": {
          "base_uri": "https://localhost:8080/"
        },
        "id": "s_KOqNQk5AQp",
        "outputId": "f77a2e0a-5a9c-4993-e46d-0263f93c404b"
      },
      "execution_count": 124,
      "outputs": [
        {
          "output_type": "execute_result",
          "data": {
            "text/plain": [
              "(782, 31)"
            ]
          },
          "metadata": {},
          "execution_count": 124
        }
      ]
    },
    {
      "cell_type": "code",
      "source": [
        "# print statistics\n",
        "df.describe()"
      ],
      "metadata": {
        "colab": {
          "base_uri": "https://localhost:8080/",
          "height": 446
        },
        "id": "y-yTcePAyXj-",
        "outputId": "c5d1ba70-8fb1-4347-b2ba-c9191a64b644"
      },
      "execution_count": 125,
      "outputs": [
        {
          "output_type": "execute_result",
          "data": {
            "text/plain": [
              "       Happiness Rank  Happiness Score  Standard Error  \\\n",
              "count      315.000000       315.000000      158.000000   \n",
              "mean        79.238095         5.378949        0.047885   \n",
              "std         45.538922         1.141531        0.017146   \n",
              "min          1.000000         2.839000        0.018480   \n",
              "25%         40.000000         4.510000        0.037268   \n",
              "50%         79.000000         5.286000        0.043940   \n",
              "75%        118.500000         6.269000        0.052300   \n",
              "max        158.000000         7.587000        0.136930   \n",
              "\n",
              "       Economy (GDP per Capita)      Family  Health (Life Expectancy)  \\\n",
              "count                315.000000  470.000000                315.000000   \n",
              "mean                   0.899837    0.990347                  0.594054   \n",
              "std                    0.410780    0.318707                  0.240790   \n",
              "min                    0.000000    0.000000                  0.000000   \n",
              "25%                    0.594900    0.793000                  0.419645   \n",
              "50%                    0.973060    1.025665                  0.640450   \n",
              "75%                    1.229000    1.228745                  0.787640   \n",
              "max                    1.824270    1.610574                  1.025250   \n",
              "\n",
              "          Freedom  Trust (Government Corruption)  Generosity  \\\n",
              "count  470.000000                     315.000000  782.000000   \n",
              "mean     0.402828                       0.140532    0.218576   \n",
              "std      0.150356                       0.115490    0.122321   \n",
              "min      0.000000                       0.000000    0.000000   \n",
              "25%      0.297615                       0.061315    0.130000   \n",
              "50%      0.418347                       0.106130    0.201982   \n",
              "75%      0.516850                       0.178610    0.278832   \n",
              "max      0.669730                       0.551910    0.838075   \n",
              "\n",
              "       Dystopia Residual  ...  Health..Life.Expectancy.  \\\n",
              "count         315.000000  ...                155.000000   \n",
              "mean            2.212032  ...                  0.551341   \n",
              "std             0.558728  ...                  0.237073   \n",
              "min             0.328580  ...                  0.000000   \n",
              "25%             1.884135  ...                  0.369866   \n",
              "50%             2.211260  ...                  0.606042   \n",
              "75%             2.563470  ...                  0.723008   \n",
              "max             3.837720  ...                  0.949492   \n",
              "\n",
              "       Trust..Government.Corruption.  Dystopia.Residual  Overall rank  \\\n",
              "count                     155.000000         155.000000    312.000000   \n",
              "mean                        0.123120           1.850238     78.500000   \n",
              "std                         0.101661           0.500028     45.104737   \n",
              "min                         0.000000           0.377914      1.000000   \n",
              "25%                         0.057271           1.591291     39.750000   \n",
              "50%                         0.089848           1.832910     78.500000   \n",
              "75%                         0.153296           2.144654    117.250000   \n",
              "max                         0.464308           3.117485    156.000000   \n",
              "\n",
              "            Score  GDP per capita  Social support  Healthy life expectancy  \\\n",
              "count  312.000000      312.000000      312.000000               312.000000   \n",
              "mean     5.391506        0.898298        1.211026                 0.661295   \n",
              "std      1.114631        0.394592        0.300310                 0.252724   \n",
              "min      2.853000        0.000000        0.000000                 0.000000   \n",
              "25%      4.514250        0.609500        1.055750                 0.488250   \n",
              "50%      5.379500        0.960000        1.265500                 0.699000   \n",
              "75%      6.176000        1.219500        1.457500                 0.858000   \n",
              "max      7.769000        2.096000        1.644000                 1.141000   \n",
              "\n",
              "       Freedom to make life choices  Perceptions of corruption  \n",
              "count                    312.000000                 311.000000  \n",
              "mean                       0.423538                   0.111299  \n",
              "std                        0.156024                   0.095365  \n",
              "min                        0.000000                   0.000000  \n",
              "25%                        0.322500                   0.050000  \n",
              "50%                        0.449500                   0.082000  \n",
              "75%                        0.540250                   0.140500  \n",
              "max                        0.724000                   0.457000  \n",
              "\n",
              "[8 rows x 27 columns]"
            ],
            "text/html": [
              "\n",
              "  <div id=\"df-444b5a50-1d68-4fc2-98a1-fcdd671ad220\">\n",
              "    <div class=\"colab-df-container\">\n",
              "      <div>\n",
              "<style scoped>\n",
              "    .dataframe tbody tr th:only-of-type {\n",
              "        vertical-align: middle;\n",
              "    }\n",
              "\n",
              "    .dataframe tbody tr th {\n",
              "        vertical-align: top;\n",
              "    }\n",
              "\n",
              "    .dataframe thead th {\n",
              "        text-align: right;\n",
              "    }\n",
              "</style>\n",
              "<table border=\"1\" class=\"dataframe\">\n",
              "  <thead>\n",
              "    <tr style=\"text-align: right;\">\n",
              "      <th></th>\n",
              "      <th>Happiness Rank</th>\n",
              "      <th>Happiness Score</th>\n",
              "      <th>Standard Error</th>\n",
              "      <th>Economy (GDP per Capita)</th>\n",
              "      <th>Family</th>\n",
              "      <th>Health (Life Expectancy)</th>\n",
              "      <th>Freedom</th>\n",
              "      <th>Trust (Government Corruption)</th>\n",
              "      <th>Generosity</th>\n",
              "      <th>Dystopia Residual</th>\n",
              "      <th>...</th>\n",
              "      <th>Health..Life.Expectancy.</th>\n",
              "      <th>Trust..Government.Corruption.</th>\n",
              "      <th>Dystopia.Residual</th>\n",
              "      <th>Overall rank</th>\n",
              "      <th>Score</th>\n",
              "      <th>GDP per capita</th>\n",
              "      <th>Social support</th>\n",
              "      <th>Healthy life expectancy</th>\n",
              "      <th>Freedom to make life choices</th>\n",
              "      <th>Perceptions of corruption</th>\n",
              "    </tr>\n",
              "  </thead>\n",
              "  <tbody>\n",
              "    <tr>\n",
              "      <th>count</th>\n",
              "      <td>315.000000</td>\n",
              "      <td>315.000000</td>\n",
              "      <td>158.000000</td>\n",
              "      <td>315.000000</td>\n",
              "      <td>470.000000</td>\n",
              "      <td>315.000000</td>\n",
              "      <td>470.000000</td>\n",
              "      <td>315.000000</td>\n",
              "      <td>782.000000</td>\n",
              "      <td>315.000000</td>\n",
              "      <td>...</td>\n",
              "      <td>155.000000</td>\n",
              "      <td>155.000000</td>\n",
              "      <td>155.000000</td>\n",
              "      <td>312.000000</td>\n",
              "      <td>312.000000</td>\n",
              "      <td>312.000000</td>\n",
              "      <td>312.000000</td>\n",
              "      <td>312.000000</td>\n",
              "      <td>312.000000</td>\n",
              "      <td>311.000000</td>\n",
              "    </tr>\n",
              "    <tr>\n",
              "      <th>mean</th>\n",
              "      <td>79.238095</td>\n",
              "      <td>5.378949</td>\n",
              "      <td>0.047885</td>\n",
              "      <td>0.899837</td>\n",
              "      <td>0.990347</td>\n",
              "      <td>0.594054</td>\n",
              "      <td>0.402828</td>\n",
              "      <td>0.140532</td>\n",
              "      <td>0.218576</td>\n",
              "      <td>2.212032</td>\n",
              "      <td>...</td>\n",
              "      <td>0.551341</td>\n",
              "      <td>0.123120</td>\n",
              "      <td>1.850238</td>\n",
              "      <td>78.500000</td>\n",
              "      <td>5.391506</td>\n",
              "      <td>0.898298</td>\n",
              "      <td>1.211026</td>\n",
              "      <td>0.661295</td>\n",
              "      <td>0.423538</td>\n",
              "      <td>0.111299</td>\n",
              "    </tr>\n",
              "    <tr>\n",
              "      <th>std</th>\n",
              "      <td>45.538922</td>\n",
              "      <td>1.141531</td>\n",
              "      <td>0.017146</td>\n",
              "      <td>0.410780</td>\n",
              "      <td>0.318707</td>\n",
              "      <td>0.240790</td>\n",
              "      <td>0.150356</td>\n",
              "      <td>0.115490</td>\n",
              "      <td>0.122321</td>\n",
              "      <td>0.558728</td>\n",
              "      <td>...</td>\n",
              "      <td>0.237073</td>\n",
              "      <td>0.101661</td>\n",
              "      <td>0.500028</td>\n",
              "      <td>45.104737</td>\n",
              "      <td>1.114631</td>\n",
              "      <td>0.394592</td>\n",
              "      <td>0.300310</td>\n",
              "      <td>0.252724</td>\n",
              "      <td>0.156024</td>\n",
              "      <td>0.095365</td>\n",
              "    </tr>\n",
              "    <tr>\n",
              "      <th>min</th>\n",
              "      <td>1.000000</td>\n",
              "      <td>2.839000</td>\n",
              "      <td>0.018480</td>\n",
              "      <td>0.000000</td>\n",
              "      <td>0.000000</td>\n",
              "      <td>0.000000</td>\n",
              "      <td>0.000000</td>\n",
              "      <td>0.000000</td>\n",
              "      <td>0.000000</td>\n",
              "      <td>0.328580</td>\n",
              "      <td>...</td>\n",
              "      <td>0.000000</td>\n",
              "      <td>0.000000</td>\n",
              "      <td>0.377914</td>\n",
              "      <td>1.000000</td>\n",
              "      <td>2.853000</td>\n",
              "      <td>0.000000</td>\n",
              "      <td>0.000000</td>\n",
              "      <td>0.000000</td>\n",
              "      <td>0.000000</td>\n",
              "      <td>0.000000</td>\n",
              "    </tr>\n",
              "    <tr>\n",
              "      <th>25%</th>\n",
              "      <td>40.000000</td>\n",
              "      <td>4.510000</td>\n",
              "      <td>0.037268</td>\n",
              "      <td>0.594900</td>\n",
              "      <td>0.793000</td>\n",
              "      <td>0.419645</td>\n",
              "      <td>0.297615</td>\n",
              "      <td>0.061315</td>\n",
              "      <td>0.130000</td>\n",
              "      <td>1.884135</td>\n",
              "      <td>...</td>\n",
              "      <td>0.369866</td>\n",
              "      <td>0.057271</td>\n",
              "      <td>1.591291</td>\n",
              "      <td>39.750000</td>\n",
              "      <td>4.514250</td>\n",
              "      <td>0.609500</td>\n",
              "      <td>1.055750</td>\n",
              "      <td>0.488250</td>\n",
              "      <td>0.322500</td>\n",
              "      <td>0.050000</td>\n",
              "    </tr>\n",
              "    <tr>\n",
              "      <th>50%</th>\n",
              "      <td>79.000000</td>\n",
              "      <td>5.286000</td>\n",
              "      <td>0.043940</td>\n",
              "      <td>0.973060</td>\n",
              "      <td>1.025665</td>\n",
              "      <td>0.640450</td>\n",
              "      <td>0.418347</td>\n",
              "      <td>0.106130</td>\n",
              "      <td>0.201982</td>\n",
              "      <td>2.211260</td>\n",
              "      <td>...</td>\n",
              "      <td>0.606042</td>\n",
              "      <td>0.089848</td>\n",
              "      <td>1.832910</td>\n",
              "      <td>78.500000</td>\n",
              "      <td>5.379500</td>\n",
              "      <td>0.960000</td>\n",
              "      <td>1.265500</td>\n",
              "      <td>0.699000</td>\n",
              "      <td>0.449500</td>\n",
              "      <td>0.082000</td>\n",
              "    </tr>\n",
              "    <tr>\n",
              "      <th>75%</th>\n",
              "      <td>118.500000</td>\n",
              "      <td>6.269000</td>\n",
              "      <td>0.052300</td>\n",
              "      <td>1.229000</td>\n",
              "      <td>1.228745</td>\n",
              "      <td>0.787640</td>\n",
              "      <td>0.516850</td>\n",
              "      <td>0.178610</td>\n",
              "      <td>0.278832</td>\n",
              "      <td>2.563470</td>\n",
              "      <td>...</td>\n",
              "      <td>0.723008</td>\n",
              "      <td>0.153296</td>\n",
              "      <td>2.144654</td>\n",
              "      <td>117.250000</td>\n",
              "      <td>6.176000</td>\n",
              "      <td>1.219500</td>\n",
              "      <td>1.457500</td>\n",
              "      <td>0.858000</td>\n",
              "      <td>0.540250</td>\n",
              "      <td>0.140500</td>\n",
              "    </tr>\n",
              "    <tr>\n",
              "      <th>max</th>\n",
              "      <td>158.000000</td>\n",
              "      <td>7.587000</td>\n",
              "      <td>0.136930</td>\n",
              "      <td>1.824270</td>\n",
              "      <td>1.610574</td>\n",
              "      <td>1.025250</td>\n",
              "      <td>0.669730</td>\n",
              "      <td>0.551910</td>\n",
              "      <td>0.838075</td>\n",
              "      <td>3.837720</td>\n",
              "      <td>...</td>\n",
              "      <td>0.949492</td>\n",
              "      <td>0.464308</td>\n",
              "      <td>3.117485</td>\n",
              "      <td>156.000000</td>\n",
              "      <td>7.769000</td>\n",
              "      <td>2.096000</td>\n",
              "      <td>1.644000</td>\n",
              "      <td>1.141000</td>\n",
              "      <td>0.724000</td>\n",
              "      <td>0.457000</td>\n",
              "    </tr>\n",
              "  </tbody>\n",
              "</table>\n",
              "<p>8 rows × 27 columns</p>\n",
              "</div>\n",
              "      <button class=\"colab-df-convert\" onclick=\"convertToInteractive('df-444b5a50-1d68-4fc2-98a1-fcdd671ad220')\"\n",
              "              title=\"Convert this dataframe to an interactive table.\"\n",
              "              style=\"display:none;\">\n",
              "        \n",
              "  <svg xmlns=\"http://www.w3.org/2000/svg\" height=\"24px\"viewBox=\"0 0 24 24\"\n",
              "       width=\"24px\">\n",
              "    <path d=\"M0 0h24v24H0V0z\" fill=\"none\"/>\n",
              "    <path d=\"M18.56 5.44l.94 2.06.94-2.06 2.06-.94-2.06-.94-.94-2.06-.94 2.06-2.06.94zm-11 1L8.5 8.5l.94-2.06 2.06-.94-2.06-.94L8.5 2.5l-.94 2.06-2.06.94zm10 10l.94 2.06.94-2.06 2.06-.94-2.06-.94-.94-2.06-.94 2.06-2.06.94z\"/><path d=\"M17.41 7.96l-1.37-1.37c-.4-.4-.92-.59-1.43-.59-.52 0-1.04.2-1.43.59L10.3 9.45l-7.72 7.72c-.78.78-.78 2.05 0 2.83L4 21.41c.39.39.9.59 1.41.59.51 0 1.02-.2 1.41-.59l7.78-7.78 2.81-2.81c.8-.78.8-2.07 0-2.86zM5.41 20L4 18.59l7.72-7.72 1.47 1.35L5.41 20z\"/>\n",
              "  </svg>\n",
              "      </button>\n",
              "      \n",
              "  <style>\n",
              "    .colab-df-container {\n",
              "      display:flex;\n",
              "      flex-wrap:wrap;\n",
              "      gap: 12px;\n",
              "    }\n",
              "\n",
              "    .colab-df-convert {\n",
              "      background-color: #E8F0FE;\n",
              "      border: none;\n",
              "      border-radius: 50%;\n",
              "      cursor: pointer;\n",
              "      display: none;\n",
              "      fill: #1967D2;\n",
              "      height: 32px;\n",
              "      padding: 0 0 0 0;\n",
              "      width: 32px;\n",
              "    }\n",
              "\n",
              "    .colab-df-convert:hover {\n",
              "      background-color: #E2EBFA;\n",
              "      box-shadow: 0px 1px 2px rgba(60, 64, 67, 0.3), 0px 1px 3px 1px rgba(60, 64, 67, 0.15);\n",
              "      fill: #174EA6;\n",
              "    }\n",
              "\n",
              "    [theme=dark] .colab-df-convert {\n",
              "      background-color: #3B4455;\n",
              "      fill: #D2E3FC;\n",
              "    }\n",
              "\n",
              "    [theme=dark] .colab-df-convert:hover {\n",
              "      background-color: #434B5C;\n",
              "      box-shadow: 0px 1px 3px 1px rgba(0, 0, 0, 0.15);\n",
              "      filter: drop-shadow(0px 1px 2px rgba(0, 0, 0, 0.3));\n",
              "      fill: #FFFFFF;\n",
              "    }\n",
              "  </style>\n",
              "\n",
              "      <script>\n",
              "        const buttonEl =\n",
              "          document.querySelector('#df-444b5a50-1d68-4fc2-98a1-fcdd671ad220 button.colab-df-convert');\n",
              "        buttonEl.style.display =\n",
              "          google.colab.kernel.accessAllowed ? 'block' : 'none';\n",
              "\n",
              "        async function convertToInteractive(key) {\n",
              "          const element = document.querySelector('#df-444b5a50-1d68-4fc2-98a1-fcdd671ad220');\n",
              "          const dataTable =\n",
              "            await google.colab.kernel.invokeFunction('convertToInteractive',\n",
              "                                                     [key], {});\n",
              "          if (!dataTable) return;\n",
              "\n",
              "          const docLinkHtml = 'Like what you see? Visit the ' +\n",
              "            '<a target=\"_blank\" href=https://colab.research.google.com/notebooks/data_table.ipynb>data table notebook</a>'\n",
              "            + ' to learn more about interactive tables.';\n",
              "          element.innerHTML = '';\n",
              "          dataTable['output_type'] = 'display_data';\n",
              "          await google.colab.output.renderOutput(dataTable, element);\n",
              "          const docLink = document.createElement('div');\n",
              "          docLink.innerHTML = docLinkHtml;\n",
              "          element.appendChild(docLink);\n",
              "        }\n",
              "      </script>\n",
              "    </div>\n",
              "  </div>\n",
              "  "
            ]
          },
          "metadata": {},
          "execution_count": 125
        }
      ]
    },
    {
      "cell_type": "markdown",
      "source": [
        "### **Data cleaning**"
      ],
      "metadata": {
        "id": "_iltXe-lyr9Z"
      }
    },
    {
      "cell_type": "code",
      "source": [
        "# convert columns name to lowercase\n",
        "df.columns = df.columns.str.lower()\n",
        "\n",
        "# select columns\n",
        "df = df[['country', 'region', 'happiness rank', 'happiness score', 'economy (gdp per capita)', 'family', 'health (life expectancy)', \n",
        "         'freedom', 'trust (government corruption)', 'year']]\n",
        "\n",
        "# remove duplicated countries\n",
        "df = df[~df['country'].duplicated()]\n",
        "\n",
        "df.head()"
      ],
      "metadata": {
        "colab": {
          "base_uri": "https://localhost:8080/",
          "height": 354
        },
        "id": "mCDO0zn2y0h0",
        "outputId": "d4b13a64-96e4-4eee-acf6-0ca1a8e926a5"
      },
      "execution_count": 126,
      "outputs": [
        {
          "output_type": "execute_result",
          "data": {
            "text/plain": [
              "       country          region  happiness rank  happiness score  \\\n",
              "0  Switzerland  Western Europe             1.0            7.587   \n",
              "1      Iceland  Western Europe             2.0            7.561   \n",
              "2      Denmark  Western Europe             3.0            7.527   \n",
              "3       Norway  Western Europe             4.0            7.522   \n",
              "4       Canada   North America             5.0            7.427   \n",
              "\n",
              "   economy (gdp per capita)   family  health (life expectancy)  freedom  \\\n",
              "0                   1.39651  1.34951                   0.94143  0.66557   \n",
              "1                   1.30232  1.40223                   0.94784  0.62877   \n",
              "2                   1.32548  1.36058                   0.87464  0.64938   \n",
              "3                   1.45900  1.33095                   0.88521  0.66973   \n",
              "4                   1.32629  1.32261                   0.90563  0.63297   \n",
              "\n",
              "   trust (government corruption)  year  \n",
              "0                        0.41978  2015  \n",
              "1                        0.14145  2015  \n",
              "2                        0.48357  2015  \n",
              "3                        0.36503  2015  \n",
              "4                        0.32957  2015  "
            ],
            "text/html": [
              "\n",
              "  <div id=\"df-ef7ede80-16d8-411a-a8fe-18002ecf5f11\">\n",
              "    <div class=\"colab-df-container\">\n",
              "      <div>\n",
              "<style scoped>\n",
              "    .dataframe tbody tr th:only-of-type {\n",
              "        vertical-align: middle;\n",
              "    }\n",
              "\n",
              "    .dataframe tbody tr th {\n",
              "        vertical-align: top;\n",
              "    }\n",
              "\n",
              "    .dataframe thead th {\n",
              "        text-align: right;\n",
              "    }\n",
              "</style>\n",
              "<table border=\"1\" class=\"dataframe\">\n",
              "  <thead>\n",
              "    <tr style=\"text-align: right;\">\n",
              "      <th></th>\n",
              "      <th>country</th>\n",
              "      <th>region</th>\n",
              "      <th>happiness rank</th>\n",
              "      <th>happiness score</th>\n",
              "      <th>economy (gdp per capita)</th>\n",
              "      <th>family</th>\n",
              "      <th>health (life expectancy)</th>\n",
              "      <th>freedom</th>\n",
              "      <th>trust (government corruption)</th>\n",
              "      <th>year</th>\n",
              "    </tr>\n",
              "  </thead>\n",
              "  <tbody>\n",
              "    <tr>\n",
              "      <th>0</th>\n",
              "      <td>Switzerland</td>\n",
              "      <td>Western Europe</td>\n",
              "      <td>1.0</td>\n",
              "      <td>7.587</td>\n",
              "      <td>1.39651</td>\n",
              "      <td>1.34951</td>\n",
              "      <td>0.94143</td>\n",
              "      <td>0.66557</td>\n",
              "      <td>0.41978</td>\n",
              "      <td>2015</td>\n",
              "    </tr>\n",
              "    <tr>\n",
              "      <th>1</th>\n",
              "      <td>Iceland</td>\n",
              "      <td>Western Europe</td>\n",
              "      <td>2.0</td>\n",
              "      <td>7.561</td>\n",
              "      <td>1.30232</td>\n",
              "      <td>1.40223</td>\n",
              "      <td>0.94784</td>\n",
              "      <td>0.62877</td>\n",
              "      <td>0.14145</td>\n",
              "      <td>2015</td>\n",
              "    </tr>\n",
              "    <tr>\n",
              "      <th>2</th>\n",
              "      <td>Denmark</td>\n",
              "      <td>Western Europe</td>\n",
              "      <td>3.0</td>\n",
              "      <td>7.527</td>\n",
              "      <td>1.32548</td>\n",
              "      <td>1.36058</td>\n",
              "      <td>0.87464</td>\n",
              "      <td>0.64938</td>\n",
              "      <td>0.48357</td>\n",
              "      <td>2015</td>\n",
              "    </tr>\n",
              "    <tr>\n",
              "      <th>3</th>\n",
              "      <td>Norway</td>\n",
              "      <td>Western Europe</td>\n",
              "      <td>4.0</td>\n",
              "      <td>7.522</td>\n",
              "      <td>1.45900</td>\n",
              "      <td>1.33095</td>\n",
              "      <td>0.88521</td>\n",
              "      <td>0.66973</td>\n",
              "      <td>0.36503</td>\n",
              "      <td>2015</td>\n",
              "    </tr>\n",
              "    <tr>\n",
              "      <th>4</th>\n",
              "      <td>Canada</td>\n",
              "      <td>North America</td>\n",
              "      <td>5.0</td>\n",
              "      <td>7.427</td>\n",
              "      <td>1.32629</td>\n",
              "      <td>1.32261</td>\n",
              "      <td>0.90563</td>\n",
              "      <td>0.63297</td>\n",
              "      <td>0.32957</td>\n",
              "      <td>2015</td>\n",
              "    </tr>\n",
              "  </tbody>\n",
              "</table>\n",
              "</div>\n",
              "      <button class=\"colab-df-convert\" onclick=\"convertToInteractive('df-ef7ede80-16d8-411a-a8fe-18002ecf5f11')\"\n",
              "              title=\"Convert this dataframe to an interactive table.\"\n",
              "              style=\"display:none;\">\n",
              "        \n",
              "  <svg xmlns=\"http://www.w3.org/2000/svg\" height=\"24px\"viewBox=\"0 0 24 24\"\n",
              "       width=\"24px\">\n",
              "    <path d=\"M0 0h24v24H0V0z\" fill=\"none\"/>\n",
              "    <path d=\"M18.56 5.44l.94 2.06.94-2.06 2.06-.94-2.06-.94-.94-2.06-.94 2.06-2.06.94zm-11 1L8.5 8.5l.94-2.06 2.06-.94-2.06-.94L8.5 2.5l-.94 2.06-2.06.94zm10 10l.94 2.06.94-2.06 2.06-.94-2.06-.94-.94-2.06-.94 2.06-2.06.94z\"/><path d=\"M17.41 7.96l-1.37-1.37c-.4-.4-.92-.59-1.43-.59-.52 0-1.04.2-1.43.59L10.3 9.45l-7.72 7.72c-.78.78-.78 2.05 0 2.83L4 21.41c.39.39.9.59 1.41.59.51 0 1.02-.2 1.41-.59l7.78-7.78 2.81-2.81c.8-.78.8-2.07 0-2.86zM5.41 20L4 18.59l7.72-7.72 1.47 1.35L5.41 20z\"/>\n",
              "  </svg>\n",
              "      </button>\n",
              "      \n",
              "  <style>\n",
              "    .colab-df-container {\n",
              "      display:flex;\n",
              "      flex-wrap:wrap;\n",
              "      gap: 12px;\n",
              "    }\n",
              "\n",
              "    .colab-df-convert {\n",
              "      background-color: #E8F0FE;\n",
              "      border: none;\n",
              "      border-radius: 50%;\n",
              "      cursor: pointer;\n",
              "      display: none;\n",
              "      fill: #1967D2;\n",
              "      height: 32px;\n",
              "      padding: 0 0 0 0;\n",
              "      width: 32px;\n",
              "    }\n",
              "\n",
              "    .colab-df-convert:hover {\n",
              "      background-color: #E2EBFA;\n",
              "      box-shadow: 0px 1px 2px rgba(60, 64, 67, 0.3), 0px 1px 3px 1px rgba(60, 64, 67, 0.15);\n",
              "      fill: #174EA6;\n",
              "    }\n",
              "\n",
              "    [theme=dark] .colab-df-convert {\n",
              "      background-color: #3B4455;\n",
              "      fill: #D2E3FC;\n",
              "    }\n",
              "\n",
              "    [theme=dark] .colab-df-convert:hover {\n",
              "      background-color: #434B5C;\n",
              "      box-shadow: 0px 1px 3px 1px rgba(0, 0, 0, 0.15);\n",
              "      filter: drop-shadow(0px 1px 2px rgba(0, 0, 0, 0.3));\n",
              "      fill: #FFFFFF;\n",
              "    }\n",
              "  </style>\n",
              "\n",
              "      <script>\n",
              "        const buttonEl =\n",
              "          document.querySelector('#df-ef7ede80-16d8-411a-a8fe-18002ecf5f11 button.colab-df-convert');\n",
              "        buttonEl.style.display =\n",
              "          google.colab.kernel.accessAllowed ? 'block' : 'none';\n",
              "\n",
              "        async function convertToInteractive(key) {\n",
              "          const element = document.querySelector('#df-ef7ede80-16d8-411a-a8fe-18002ecf5f11');\n",
              "          const dataTable =\n",
              "            await google.colab.kernel.invokeFunction('convertToInteractive',\n",
              "                                                     [key], {});\n",
              "          if (!dataTable) return;\n",
              "\n",
              "          const docLinkHtml = 'Like what you see? Visit the ' +\n",
              "            '<a target=\"_blank\" href=https://colab.research.google.com/notebooks/data_table.ipynb>data table notebook</a>'\n",
              "            + ' to learn more about interactive tables.';\n",
              "          element.innerHTML = '';\n",
              "          dataTable['output_type'] = 'display_data';\n",
              "          await google.colab.output.renderOutput(dataTable, element);\n",
              "          const docLink = document.createElement('div');\n",
              "          docLink.innerHTML = docLinkHtml;\n",
              "          element.appendChild(docLink);\n",
              "        }\n",
              "      </script>\n",
              "    </div>\n",
              "  </div>\n",
              "  "
            ]
          },
          "metadata": {},
          "execution_count": 126
        }
      ]
    },
    {
      "cell_type": "markdown",
      "source": [
        "**Remove missing data**"
      ],
      "metadata": {
        "id": "CMiD8COE7E2z"
      }
    },
    {
      "cell_type": "code",
      "source": [
        "# print the sum of null rows\n",
        "df.isnull().sum()"
      ],
      "metadata": {
        "colab": {
          "base_uri": "https://localhost:8080/"
        },
        "id": "xCqmq5EJ_PXR",
        "outputId": "ae14af12-767f-4a3b-8da8-b74c16f0375d"
      },
      "execution_count": 127,
      "outputs": [
        {
          "output_type": "execute_result",
          "data": {
            "text/plain": [
              "country                          1\n",
              "region                           3\n",
              "happiness rank                   3\n",
              "happiness score                  3\n",
              "economy (gdp per capita)         3\n",
              "family                           1\n",
              "health (life expectancy)         3\n",
              "freedom                          1\n",
              "trust (government corruption)    3\n",
              "year                             0\n",
              "dtype: int64"
            ]
          },
          "metadata": {},
          "execution_count": 127
        }
      ]
    },
    {
      "cell_type": "code",
      "source": [
        "# remove all rows with missing value\n",
        "df.dropna(inplace = True)\n",
        "df.isnull().sum()"
      ],
      "metadata": {
        "colab": {
          "base_uri": "https://localhost:8080/"
        },
        "id": "q2s2ST5T7Hus",
        "outputId": "280b1e6a-d3c7-45ce-f0d2-0e791c3f829b"
      },
      "execution_count": 128,
      "outputs": [
        {
          "output_type": "execute_result",
          "data": {
            "text/plain": [
              "country                          0\n",
              "region                           0\n",
              "happiness rank                   0\n",
              "happiness score                  0\n",
              "economy (gdp per capita)         0\n",
              "family                           0\n",
              "health (life expectancy)         0\n",
              "freedom                          0\n",
              "trust (government corruption)    0\n",
              "year                             0\n",
              "dtype: int64"
            ]
          },
          "metadata": {},
          "execution_count": 128
        }
      ]
    },
    {
      "cell_type": "markdown",
      "source": [
        "**Print the most and least happy contries**"
      ],
      "metadata": {
        "id": "ZjlLcFM4AO02"
      }
    },
    {
      "cell_type": "code",
      "source": [
        "# to get the top 3 most happiest countries\n",
        "df.nlargest(3, 'happiness score')"
      ],
      "metadata": {
        "colab": {
          "base_uri": "https://localhost:8080/",
          "height": 257
        },
        "id": "Ie3hUcfezpU6",
        "outputId": "53ba7d53-11cc-464e-e615-aa01436fa5ce"
      },
      "execution_count": 129,
      "outputs": [
        {
          "output_type": "execute_result",
          "data": {
            "text/plain": [
              "       country          region  happiness rank  happiness score  \\\n",
              "0  Switzerland  Western Europe             1.0            7.587   \n",
              "1      Iceland  Western Europe             2.0            7.561   \n",
              "2      Denmark  Western Europe             3.0            7.527   \n",
              "\n",
              "   economy (gdp per capita)   family  health (life expectancy)  freedom  \\\n",
              "0                   1.39651  1.34951                   0.94143  0.66557   \n",
              "1                   1.30232  1.40223                   0.94784  0.62877   \n",
              "2                   1.32548  1.36058                   0.87464  0.64938   \n",
              "\n",
              "   trust (government corruption)  year  \n",
              "0                        0.41978  2015  \n",
              "1                        0.14145  2015  \n",
              "2                        0.48357  2015  "
            ],
            "text/html": [
              "\n",
              "  <div id=\"df-71987b7e-c639-491a-aa73-49f70006ce1c\">\n",
              "    <div class=\"colab-df-container\">\n",
              "      <div>\n",
              "<style scoped>\n",
              "    .dataframe tbody tr th:only-of-type {\n",
              "        vertical-align: middle;\n",
              "    }\n",
              "\n",
              "    .dataframe tbody tr th {\n",
              "        vertical-align: top;\n",
              "    }\n",
              "\n",
              "    .dataframe thead th {\n",
              "        text-align: right;\n",
              "    }\n",
              "</style>\n",
              "<table border=\"1\" class=\"dataframe\">\n",
              "  <thead>\n",
              "    <tr style=\"text-align: right;\">\n",
              "      <th></th>\n",
              "      <th>country</th>\n",
              "      <th>region</th>\n",
              "      <th>happiness rank</th>\n",
              "      <th>happiness score</th>\n",
              "      <th>economy (gdp per capita)</th>\n",
              "      <th>family</th>\n",
              "      <th>health (life expectancy)</th>\n",
              "      <th>freedom</th>\n",
              "      <th>trust (government corruption)</th>\n",
              "      <th>year</th>\n",
              "    </tr>\n",
              "  </thead>\n",
              "  <tbody>\n",
              "    <tr>\n",
              "      <th>0</th>\n",
              "      <td>Switzerland</td>\n",
              "      <td>Western Europe</td>\n",
              "      <td>1.0</td>\n",
              "      <td>7.587</td>\n",
              "      <td>1.39651</td>\n",
              "      <td>1.34951</td>\n",
              "      <td>0.94143</td>\n",
              "      <td>0.66557</td>\n",
              "      <td>0.41978</td>\n",
              "      <td>2015</td>\n",
              "    </tr>\n",
              "    <tr>\n",
              "      <th>1</th>\n",
              "      <td>Iceland</td>\n",
              "      <td>Western Europe</td>\n",
              "      <td>2.0</td>\n",
              "      <td>7.561</td>\n",
              "      <td>1.30232</td>\n",
              "      <td>1.40223</td>\n",
              "      <td>0.94784</td>\n",
              "      <td>0.62877</td>\n",
              "      <td>0.14145</td>\n",
              "      <td>2015</td>\n",
              "    </tr>\n",
              "    <tr>\n",
              "      <th>2</th>\n",
              "      <td>Denmark</td>\n",
              "      <td>Western Europe</td>\n",
              "      <td>3.0</td>\n",
              "      <td>7.527</td>\n",
              "      <td>1.32548</td>\n",
              "      <td>1.36058</td>\n",
              "      <td>0.87464</td>\n",
              "      <td>0.64938</td>\n",
              "      <td>0.48357</td>\n",
              "      <td>2015</td>\n",
              "    </tr>\n",
              "  </tbody>\n",
              "</table>\n",
              "</div>\n",
              "      <button class=\"colab-df-convert\" onclick=\"convertToInteractive('df-71987b7e-c639-491a-aa73-49f70006ce1c')\"\n",
              "              title=\"Convert this dataframe to an interactive table.\"\n",
              "              style=\"display:none;\">\n",
              "        \n",
              "  <svg xmlns=\"http://www.w3.org/2000/svg\" height=\"24px\"viewBox=\"0 0 24 24\"\n",
              "       width=\"24px\">\n",
              "    <path d=\"M0 0h24v24H0V0z\" fill=\"none\"/>\n",
              "    <path d=\"M18.56 5.44l.94 2.06.94-2.06 2.06-.94-2.06-.94-.94-2.06-.94 2.06-2.06.94zm-11 1L8.5 8.5l.94-2.06 2.06-.94-2.06-.94L8.5 2.5l-.94 2.06-2.06.94zm10 10l.94 2.06.94-2.06 2.06-.94-2.06-.94-.94-2.06-.94 2.06-2.06.94z\"/><path d=\"M17.41 7.96l-1.37-1.37c-.4-.4-.92-.59-1.43-.59-.52 0-1.04.2-1.43.59L10.3 9.45l-7.72 7.72c-.78.78-.78 2.05 0 2.83L4 21.41c.39.39.9.59 1.41.59.51 0 1.02-.2 1.41-.59l7.78-7.78 2.81-2.81c.8-.78.8-2.07 0-2.86zM5.41 20L4 18.59l7.72-7.72 1.47 1.35L5.41 20z\"/>\n",
              "  </svg>\n",
              "      </button>\n",
              "      \n",
              "  <style>\n",
              "    .colab-df-container {\n",
              "      display:flex;\n",
              "      flex-wrap:wrap;\n",
              "      gap: 12px;\n",
              "    }\n",
              "\n",
              "    .colab-df-convert {\n",
              "      background-color: #E8F0FE;\n",
              "      border: none;\n",
              "      border-radius: 50%;\n",
              "      cursor: pointer;\n",
              "      display: none;\n",
              "      fill: #1967D2;\n",
              "      height: 32px;\n",
              "      padding: 0 0 0 0;\n",
              "      width: 32px;\n",
              "    }\n",
              "\n",
              "    .colab-df-convert:hover {\n",
              "      background-color: #E2EBFA;\n",
              "      box-shadow: 0px 1px 2px rgba(60, 64, 67, 0.3), 0px 1px 3px 1px rgba(60, 64, 67, 0.15);\n",
              "      fill: #174EA6;\n",
              "    }\n",
              "\n",
              "    [theme=dark] .colab-df-convert {\n",
              "      background-color: #3B4455;\n",
              "      fill: #D2E3FC;\n",
              "    }\n",
              "\n",
              "    [theme=dark] .colab-df-convert:hover {\n",
              "      background-color: #434B5C;\n",
              "      box-shadow: 0px 1px 3px 1px rgba(0, 0, 0, 0.15);\n",
              "      filter: drop-shadow(0px 1px 2px rgba(0, 0, 0, 0.3));\n",
              "      fill: #FFFFFF;\n",
              "    }\n",
              "  </style>\n",
              "\n",
              "      <script>\n",
              "        const buttonEl =\n",
              "          document.querySelector('#df-71987b7e-c639-491a-aa73-49f70006ce1c button.colab-df-convert');\n",
              "        buttonEl.style.display =\n",
              "          google.colab.kernel.accessAllowed ? 'block' : 'none';\n",
              "\n",
              "        async function convertToInteractive(key) {\n",
              "          const element = document.querySelector('#df-71987b7e-c639-491a-aa73-49f70006ce1c');\n",
              "          const dataTable =\n",
              "            await google.colab.kernel.invokeFunction('convertToInteractive',\n",
              "                                                     [key], {});\n",
              "          if (!dataTable) return;\n",
              "\n",
              "          const docLinkHtml = 'Like what you see? Visit the ' +\n",
              "            '<a target=\"_blank\" href=https://colab.research.google.com/notebooks/data_table.ipynb>data table notebook</a>'\n",
              "            + ' to learn more about interactive tables.';\n",
              "          element.innerHTML = '';\n",
              "          dataTable['output_type'] = 'display_data';\n",
              "          await google.colab.output.renderOutput(dataTable, element);\n",
              "          const docLink = document.createElement('div');\n",
              "          docLink.innerHTML = docLinkHtml;\n",
              "          element.appendChild(docLink);\n",
              "        }\n",
              "      </script>\n",
              "    </div>\n",
              "  </div>\n",
              "  "
            ]
          },
          "metadata": {},
          "execution_count": 129
        }
      ]
    },
    {
      "cell_type": "markdown",
      "source": [
        "Note that the top 3 most happiest countries are Switzerland, Iceland and Denmark.\n",
        "\n"
      ],
      "metadata": {
        "id": "G6q-xW3H1ElS"
      }
    },
    {
      "cell_type": "code",
      "source": [
        "# prints the 3 most unhappy countries\n",
        "df.nsmallest(3, 'happiness score')"
      ],
      "metadata": {
        "colab": {
          "base_uri": "https://localhost:8080/",
          "height": 222
        },
        "id": "M5xEP3P40U5Q",
        "outputId": "5b64dd0b-df35-4958-e50c-a82db7ed3f62"
      },
      "execution_count": 130,
      "outputs": [
        {
          "output_type": "execute_result",
          "data": {
            "text/plain": [
              "     country                           region  happiness rank  \\\n",
              "157     Togo               Sub-Saharan Africa           158.0   \n",
              "156  Burundi               Sub-Saharan Africa           157.0   \n",
              "155    Syria  Middle East and Northern Africa           156.0   \n",
              "\n",
              "     happiness score  economy (gdp per capita)   family  \\\n",
              "157            2.839                   0.20868  0.13995   \n",
              "156            2.905                   0.01530  0.41587   \n",
              "155            3.006                   0.66320  0.47489   \n",
              "\n",
              "     health (life expectancy)  freedom  trust (government corruption)  year  \n",
              "157                   0.28443  0.36453                        0.10731  2015  \n",
              "156                   0.22396  0.11850                        0.10062  2015  \n",
              "155                   0.72193  0.15684                        0.18906  2015  "
            ],
            "text/html": [
              "\n",
              "  <div id=\"df-872b66ac-494f-4efe-8291-2738c8a3e43a\">\n",
              "    <div class=\"colab-df-container\">\n",
              "      <div>\n",
              "<style scoped>\n",
              "    .dataframe tbody tr th:only-of-type {\n",
              "        vertical-align: middle;\n",
              "    }\n",
              "\n",
              "    .dataframe tbody tr th {\n",
              "        vertical-align: top;\n",
              "    }\n",
              "\n",
              "    .dataframe thead th {\n",
              "        text-align: right;\n",
              "    }\n",
              "</style>\n",
              "<table border=\"1\" class=\"dataframe\">\n",
              "  <thead>\n",
              "    <tr style=\"text-align: right;\">\n",
              "      <th></th>\n",
              "      <th>country</th>\n",
              "      <th>region</th>\n",
              "      <th>happiness rank</th>\n",
              "      <th>happiness score</th>\n",
              "      <th>economy (gdp per capita)</th>\n",
              "      <th>family</th>\n",
              "      <th>health (life expectancy)</th>\n",
              "      <th>freedom</th>\n",
              "      <th>trust (government corruption)</th>\n",
              "      <th>year</th>\n",
              "    </tr>\n",
              "  </thead>\n",
              "  <tbody>\n",
              "    <tr>\n",
              "      <th>157</th>\n",
              "      <td>Togo</td>\n",
              "      <td>Sub-Saharan Africa</td>\n",
              "      <td>158.0</td>\n",
              "      <td>2.839</td>\n",
              "      <td>0.20868</td>\n",
              "      <td>0.13995</td>\n",
              "      <td>0.28443</td>\n",
              "      <td>0.36453</td>\n",
              "      <td>0.10731</td>\n",
              "      <td>2015</td>\n",
              "    </tr>\n",
              "    <tr>\n",
              "      <th>156</th>\n",
              "      <td>Burundi</td>\n",
              "      <td>Sub-Saharan Africa</td>\n",
              "      <td>157.0</td>\n",
              "      <td>2.905</td>\n",
              "      <td>0.01530</td>\n",
              "      <td>0.41587</td>\n",
              "      <td>0.22396</td>\n",
              "      <td>0.11850</td>\n",
              "      <td>0.10062</td>\n",
              "      <td>2015</td>\n",
              "    </tr>\n",
              "    <tr>\n",
              "      <th>155</th>\n",
              "      <td>Syria</td>\n",
              "      <td>Middle East and Northern Africa</td>\n",
              "      <td>156.0</td>\n",
              "      <td>3.006</td>\n",
              "      <td>0.66320</td>\n",
              "      <td>0.47489</td>\n",
              "      <td>0.72193</td>\n",
              "      <td>0.15684</td>\n",
              "      <td>0.18906</td>\n",
              "      <td>2015</td>\n",
              "    </tr>\n",
              "  </tbody>\n",
              "</table>\n",
              "</div>\n",
              "      <button class=\"colab-df-convert\" onclick=\"convertToInteractive('df-872b66ac-494f-4efe-8291-2738c8a3e43a')\"\n",
              "              title=\"Convert this dataframe to an interactive table.\"\n",
              "              style=\"display:none;\">\n",
              "        \n",
              "  <svg xmlns=\"http://www.w3.org/2000/svg\" height=\"24px\"viewBox=\"0 0 24 24\"\n",
              "       width=\"24px\">\n",
              "    <path d=\"M0 0h24v24H0V0z\" fill=\"none\"/>\n",
              "    <path d=\"M18.56 5.44l.94 2.06.94-2.06 2.06-.94-2.06-.94-.94-2.06-.94 2.06-2.06.94zm-11 1L8.5 8.5l.94-2.06 2.06-.94-2.06-.94L8.5 2.5l-.94 2.06-2.06.94zm10 10l.94 2.06.94-2.06 2.06-.94-2.06-.94-.94-2.06-.94 2.06-2.06.94z\"/><path d=\"M17.41 7.96l-1.37-1.37c-.4-.4-.92-.59-1.43-.59-.52 0-1.04.2-1.43.59L10.3 9.45l-7.72 7.72c-.78.78-.78 2.05 0 2.83L4 21.41c.39.39.9.59 1.41.59.51 0 1.02-.2 1.41-.59l7.78-7.78 2.81-2.81c.8-.78.8-2.07 0-2.86zM5.41 20L4 18.59l7.72-7.72 1.47 1.35L5.41 20z\"/>\n",
              "  </svg>\n",
              "      </button>\n",
              "      \n",
              "  <style>\n",
              "    .colab-df-container {\n",
              "      display:flex;\n",
              "      flex-wrap:wrap;\n",
              "      gap: 12px;\n",
              "    }\n",
              "\n",
              "    .colab-df-convert {\n",
              "      background-color: #E8F0FE;\n",
              "      border: none;\n",
              "      border-radius: 50%;\n",
              "      cursor: pointer;\n",
              "      display: none;\n",
              "      fill: #1967D2;\n",
              "      height: 32px;\n",
              "      padding: 0 0 0 0;\n",
              "      width: 32px;\n",
              "    }\n",
              "\n",
              "    .colab-df-convert:hover {\n",
              "      background-color: #E2EBFA;\n",
              "      box-shadow: 0px 1px 2px rgba(60, 64, 67, 0.3), 0px 1px 3px 1px rgba(60, 64, 67, 0.15);\n",
              "      fill: #174EA6;\n",
              "    }\n",
              "\n",
              "    [theme=dark] .colab-df-convert {\n",
              "      background-color: #3B4455;\n",
              "      fill: #D2E3FC;\n",
              "    }\n",
              "\n",
              "    [theme=dark] .colab-df-convert:hover {\n",
              "      background-color: #434B5C;\n",
              "      box-shadow: 0px 1px 3px 1px rgba(0, 0, 0, 0.15);\n",
              "      filter: drop-shadow(0px 1px 2px rgba(0, 0, 0, 0.3));\n",
              "      fill: #FFFFFF;\n",
              "    }\n",
              "  </style>\n",
              "\n",
              "      <script>\n",
              "        const buttonEl =\n",
              "          document.querySelector('#df-872b66ac-494f-4efe-8291-2738c8a3e43a button.colab-df-convert');\n",
              "        buttonEl.style.display =\n",
              "          google.colab.kernel.accessAllowed ? 'block' : 'none';\n",
              "\n",
              "        async function convertToInteractive(key) {\n",
              "          const element = document.querySelector('#df-872b66ac-494f-4efe-8291-2738c8a3e43a');\n",
              "          const dataTable =\n",
              "            await google.colab.kernel.invokeFunction('convertToInteractive',\n",
              "                                                     [key], {});\n",
              "          if (!dataTable) return;\n",
              "\n",
              "          const docLinkHtml = 'Like what you see? Visit the ' +\n",
              "            '<a target=\"_blank\" href=https://colab.research.google.com/notebooks/data_table.ipynb>data table notebook</a>'\n",
              "            + ' to learn more about interactive tables.';\n",
              "          element.innerHTML = '';\n",
              "          dataTable['output_type'] = 'display_data';\n",
              "          await google.colab.output.renderOutput(dataTable, element);\n",
              "          const docLink = document.createElement('div');\n",
              "          docLink.innerHTML = docLinkHtml;\n",
              "          element.appendChild(docLink);\n",
              "        }\n",
              "      </script>\n",
              "    </div>\n",
              "  </div>\n",
              "  "
            ]
          },
          "metadata": {},
          "execution_count": 130
        }
      ]
    },
    {
      "cell_type": "markdown",
      "source": [
        "The 3 most unhappy countries are South Sudan, Central African Republic and Afghanistan"
      ],
      "metadata": {
        "id": "10ntIpPt11Lw"
      }
    },
    {
      "cell_type": "markdown",
      "source": [
        "**Happiness by Region**"
      ],
      "metadata": {
        "id": "Vt2fNZbc4nVW"
      }
    },
    {
      "cell_type": "code",
      "source": [
        "# print happiness score mean by region\n",
        "df.groupby('region')['happiness score'].mean()"
      ],
      "metadata": {
        "colab": {
          "base_uri": "https://localhost:8080/"
        },
        "id": "mGmfinHE4qxJ",
        "outputId": "515d5fff-a2b6-4181-9bb3-fd8cce93ac93"
      },
      "execution_count": 131,
      "outputs": [
        {
          "output_type": "execute_result",
          "data": {
            "text/plain": [
              "region\n",
              "Australia and New Zealand          7.285000\n",
              "Central and Eastern Europe         5.332931\n",
              "Eastern Asia                       5.626167\n",
              "Latin America and Caribbean        6.174083\n",
              "Middle East and Northern Africa    5.406900\n",
              "North America                      7.273000\n",
              "Southeastern Asia                  5.317444\n",
              "Southern Asia                      4.580857\n",
              "Sub-Saharan Africa                 4.250341\n",
              "Western Europe                     6.689619\n",
              "Name: happiness score, dtype: float64"
            ]
          },
          "metadata": {},
          "execution_count": 131
        }
      ]
    },
    {
      "cell_type": "markdown",
      "source": [
        "**Happiness grouped by year and region**"
      ],
      "metadata": {
        "id": "mOc158Q5Asvv"
      }
    },
    {
      "cell_type": "code",
      "source": [
        "df.groupby(['year', 'region'])['happiness score'].mean()"
      ],
      "metadata": {
        "colab": {
          "base_uri": "https://localhost:8080/"
        },
        "id": "WhReHwU5AxN0",
        "outputId": "03309e13-dad9-42e2-ce6c-40d41ae2cf37"
      },
      "execution_count": 132,
      "outputs": [
        {
          "output_type": "execute_result",
          "data": {
            "text/plain": [
              "year  region                         \n",
              "2015  Australia and New Zealand          7.285000\n",
              "      Central and Eastern Europe         5.332931\n",
              "      Eastern Asia                       5.626167\n",
              "      Latin America and Caribbean        6.144682\n",
              "      Middle East and Northern Africa    5.406900\n",
              "      North America                      7.273000\n",
              "      Southeastern Asia                  5.317444\n",
              "      Southern Asia                      4.580857\n",
              "      Sub-Saharan Africa                 4.202800\n",
              "      Western Europe                     6.689619\n",
              "2016  Latin America and Caribbean        6.497500\n",
              "      Sub-Saharan Africa                 4.725750\n",
              "Name: happiness score, dtype: float64"
            ]
          },
          "metadata": {},
          "execution_count": 132
        }
      ]
    },
    {
      "cell_type": "markdown",
      "source": [
        "### **Plot the distribution of happiness score**"
      ],
      "metadata": {
        "id": "bxpS38yJBpxF"
      }
    },
    {
      "cell_type": "code",
      "source": [
        "import matplotlib.pyplot as plt\n",
        "\n",
        "plt.hist(df['happiness score'])\n",
        "plt.xlabel('score')\n",
        "plt.ylabel('Number of countries')\n",
        "plt.show()"
      ],
      "metadata": {
        "colab": {
          "base_uri": "https://localhost:8080/",
          "height": 280
        },
        "id": "InWoUFcNBSes",
        "outputId": "a8125c29-b7e4-491c-a5c8-f6c4c18aed3e"
      },
      "execution_count": 133,
      "outputs": [
        {
          "output_type": "display_data",
          "data": {
            "text/plain": [
              "<Figure size 432x288 with 1 Axes>"
            ],
            "image/png": "[encoded data removed]"
          },
          "metadata": {
            "needs_background": "light"
          }
        }
      ]
    },
    {
      "cell_type": "markdown",
      "source": [
        "The distribution plot shows the distribution of happiness score."
      ],
      "metadata": {
        "id": "McIfww6pCJnJ"
      }
    },
    {
      "cell_type": "markdown",
      "source": [
        "### **Correlation between happiness score and other variables**"
      ],
      "metadata": {
        "id": "V87RQ2fZDKJ8"
      }
    },
    {
      "cell_type": "markdown",
      "source": [
        "**Happiness score X GDP per capita**"
      ],
      "metadata": {
        "id": "lvi8QeAIG5Lg"
      }
    },
    {
      "cell_type": "code",
      "source": [
        "import numpy as np\n",
        "\n",
        "# print the correlation between gdp per capita and happiness score\n",
        "np.corrcoef(df['happiness score'], df['economy (gdp per capita)'])"
      ],
      "metadata": {
        "colab": {
          "base_uri": "https://localhost:8080/"
        },
        "id": "YJlBaGtXDvW7",
        "outputId": "7e700dbf-23e6-481b-9bd9-897c5ea202a8"
      },
      "execution_count": 134,
      "outputs": [
        {
          "output_type": "execute_result",
          "data": {
            "text/plain": [
              "array([[1.        , 0.76883408],\n",
              "       [0.76883408, 1.        ]])"
            ]
          },
          "metadata": {},
          "execution_count": 134
        }
      ]
    },
    {
      "cell_type": "code",
      "source": [
        "# plot the correlation\n",
        "plt.scatter(x = df['happiness score'], y = df['economy (gdp per capita)'])\n",
        "plt.xlabel('Happiness score')\n",
        "plt.ylabel('Economy (GDP per capita)')"
      ],
      "metadata": {
        "colab": {
          "base_uri": "https://localhost:8080/",
          "height": 297
        },
        "id": "TXwnAJOYB58A",
        "outputId": "8fc72fbf-c070-4b70-c4c0-112167f3ddba"
      },
      "execution_count": 135,
      "outputs": [
        {
          "output_type": "execute_result",
          "data": {
            "text/plain": [
              "Text(0, 0.5, 'Economy (GDP per capita)')"
            ]
          },
          "metadata": {},
          "execution_count": 135
        },
        {
          "output_type": "display_data",
          "data": {
            "text/plain": [
              "<Figure size 432x288 with 1 Axes>"
            ],
            "image/png": "[encoded data removed]"
          },
          "metadata": {
            "needs_background": "light"
          }
        }
      ]
    },
    {
      "cell_type": "markdown",
      "source": [
        "Note that as the gdp per capita increases the score increases too. That mean that we have a positive correlation **(0.77)**"
      ],
      "metadata": {
        "id": "Us8p40mjDTpk"
      }
    },
    {
      "cell_type": "markdown",
      "source": [
        "**Happiness score X Life expectancy**"
      ],
      "metadata": {
        "id": "gL6aa9EsE43R"
      }
    },
    {
      "cell_type": "code",
      "source": [
        "# print the correlation between gdp per capita and happiness score\n",
        "np.corrcoef(df['happiness score'], df['health (life expectancy)'])"
      ],
      "metadata": {
        "colab": {
          "base_uri": "https://localhost:8080/"
        },
        "id": "_RhqAZW8Fjta",
        "outputId": "79e65e13-08f1-46a4-95eb-9f14159d172c"
      },
      "execution_count": 136,
      "outputs": [
        {
          "output_type": "execute_result",
          "data": {
            "text/plain": [
              "array([[1.        , 0.71374288],\n",
              "       [0.71374288, 1.        ]])"
            ]
          },
          "metadata": {},
          "execution_count": 136
        }
      ]
    },
    {
      "cell_type": "code",
      "source": [
        "plt.scatter(x = df['happiness score'], y = df['health (life expectancy)'])\n",
        "plt.xlabel('Happiness score')\n",
        "plt.ylabel('Health (life expectancy)')"
      ],
      "metadata": {
        "colab": {
          "base_uri": "https://localhost:8080/",
          "height": 296
        },
        "id": "X3gc2eNUE_yi",
        "outputId": "5882d571-795c-4e83-874a-2f13b062e398"
      },
      "execution_count": 137,
      "outputs": [
        {
          "output_type": "execute_result",
          "data": {
            "text/plain": [
              "Text(0, 0.5, 'Health (life expectancy)')"
            ]
          },
          "metadata": {},
          "execution_count": 137
        },
        {
          "output_type": "display_data",
          "data": {
            "text/plain": [
              "<Figure size 432x288 with 1 Axes>"
            ],
            "image/png": "[encoded data removed]"
          },
          "metadata": {
            "needs_background": "light"
          }
        }
      ]
    },
    {
      "cell_type": "markdown",
      "source": [
        "Note that we have a positive correlation between happiness score and life expectancy **(0.72)**"
      ],
      "metadata": {
        "id": "xJBSbYMpFfS9"
      }
    },
    {
      "cell_type": "markdown",
      "source": [
        "**Happiness score X Freedom**"
      ],
      "metadata": {
        "id": "r6t1k-gTHMOG"
      }
    },
    {
      "cell_type": "code",
      "source": [
        "# print the correlation between gdp per capita and happiness score\n",
        "np.corrcoef(df['happiness score'], df['freedom'])"
      ],
      "metadata": {
        "colab": {
          "base_uri": "https://localhost:8080/"
        },
        "id": "sD5u39POF03r",
        "outputId": "0cbce85d-63e4-405e-fb57-53654fe1df98"
      },
      "execution_count": 138,
      "outputs": [
        {
          "output_type": "execute_result",
          "data": {
            "text/plain": [
              "array([[1.        , 0.56920912],\n",
              "       [0.56920912, 1.        ]])"
            ]
          },
          "metadata": {},
          "execution_count": 138
        }
      ]
    },
    {
      "cell_type": "code",
      "source": [
        "plt.scatter(x = df['happiness score'], y = df['freedom'])\n",
        "plt.xlabel('Happiness score')\n",
        "plt.ylabel('Freedom')"
      ],
      "metadata": {
        "colab": {
          "base_uri": "https://localhost:8080/",
          "height": 299
        },
        "id": "YmL3aZQKFOka",
        "outputId": "7e6350f2-814c-4f22-c62c-080bcb184f24"
      },
      "execution_count": 139,
      "outputs": [
        {
          "output_type": "execute_result",
          "data": {
            "text/plain": [
              "Text(0, 0.5, 'Freedom')"
            ]
          },
          "metadata": {},
          "execution_count": 139
        },
        {
          "output_type": "display_data",
          "data": {
            "text/plain": [
              "<Figure size 432x288 with 1 Axes>"
            ],
            "image/png": "[encoded data removed]"
          },
          "metadata": {
            "needs_background": "light"
          }
        }
      ]
    },
    {
      "cell_type": "markdown",
      "source": [
        "Note that the correlation between happiness score and freedom is slightly positive **(0.57)**, one possible hyphotesis is that freendom is something that we can not measure directly as each subject have their own opnion about that. "
      ],
      "metadata": {
        "id": "iI4nFTDsF5P5"
      }
    }
  ]
}